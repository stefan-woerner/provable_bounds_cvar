{
 "cells": [
  {
   "cell_type": "markdown",
   "id": "e32bf045",
   "metadata": {},
   "source": [
    "###########################################################################<br>\n",
    "\\# This code is associated to the paper:<br>\n",
    "\\# <b>Provable bounds for noise-free expectation values computed from noisy samples</b><br>\n",
    "\\# (https://arxiv.org/abs/2312.00733)<br>\n",
    "\\# <br>\n",
    "\\# (C) Copyright IBM 2024.<br>\n",
    "\\# <br>\n",
    "\\# Any modifications or derivative works of this code must retain<br>\n",
    "\\# this copyright notice, and modified files need to carry a notice<br>\n",
    "\\# indicating that they have been altered from the originals.<br>\n",
    "###########################################################################"
   ]
  },
  {
   "cell_type": "markdown",
   "id": "d923cc6e",
   "metadata": {},
   "source": [
    "# 40-qubit QAOA\n",
    "\n",
    "QAOA for maxcut on random 3-regular graph with 40 nodes presented in https://arxiv.org/abs/2312.00733.\n",
    "\n",
    "Original source of graph and circuit: \n",
    "- [1] Paper: \"Large-scale quantum approximate optimization on non-planar graphs with machine learning noise mitigation\", [arXiv:2307.14427](https://arxiv.org/abs/2307.14427) (2023). \n",
    "- [2] Repository: https://github.com/eggerdj/large_scale_qaoa\n",
    "\n",
    "This notebook contains the code for:\n",
    "- [Figure 1](#Figure-1)\n",
    "- [Table 1](#Table-1)"
   ]
  },
  {
   "cell_type": "code",
   "execution_count": 1,
   "id": "999bfc8c",
   "metadata": {},
   "outputs": [],
   "source": [
    "import json\n",
    "import numpy as np\n",
    "import matplotlib.pyplot as plt\n",
    "\n",
    "from qiskit import QuantumCircuit, transpile, qpy\n",
    "from qiskit.transpiler import PassManager\n",
    "from qiskit.circuit.library import XGate, YGate\n",
    "\n",
    "from qiskit_ibm_runtime import QiskitRuntimeService\n",
    "from qiskit_ibm_runtime import Sampler, Session, Options\n",
    "\n",
    "from qiskit_ibm_provider.transpiler.passes.scheduling import (DynamicCircuitInstructionDurations, \n",
    "                                                              ALAPScheduleAnalysis, \n",
    "                                                              PadDynamicalDecoupling, \n",
    "                                                              PadDelay)\n",
    "\n",
    "from qiskit_optimization.applications import Maxcut"
   ]
  },
  {
   "cell_type": "code",
   "execution_count": 2,
   "id": "3fd1cb7e",
   "metadata": {},
   "outputs": [],
   "source": [
    "# optimal solution\n",
    "opt_val = 56\n",
    "\n",
    "# noise-free QAOA expectation values evaluated via lightcone optimization (cf. original source [1])\n",
    "# p = 1, 2\n",
    "noise_free_exp_vals = [41.5165, 45.2717]"
   ]
  },
  {
   "cell_type": "code",
   "execution_count": 3,
   "id": "59c4bb92",
   "metadata": {},
   "outputs": [],
   "source": [
    "# load graph\n",
    "graph = json.load(open('./data/graph_7layers_8seed.json'))\n",
    "problem = Maxcut(graph['Original graph'])\n",
    "qp = problem.to_quadratic_program()\n",
    "\n",
    "# define Maxcut objective\n",
    "def objective(x):\n",
    "    return qp.objective.evaluate([int(b) for b in reversed(x)])"
   ]
  },
  {
   "cell_type": "code",
   "execution_count": 4,
   "id": "d4aa07b2",
   "metadata": {},
   "outputs": [],
   "source": [
    "# load circuits\n",
    "with open('./data/circuits_40_qubits.qpy', 'rb') as f:\n",
    "    qcs = qpy.load(f)"
   ]
  },
  {
   "cell_type": "code",
   "execution_count": 5,
   "id": "df33fffc",
   "metadata": {},
   "outputs": [],
   "source": [
    "# instantiate Qiskit runtime service\n",
    "service = QiskitRuntimeService(channel='ibm_quantum')"
   ]
  },
  {
   "cell_type": "code",
   "execution_count": 6,
   "id": "2d68e8e2",
   "metadata": {},
   "outputs": [],
   "source": [
    "# select backend\n",
    "# backend = service.backend('ibm_sherbrooke')\n",
    "backend = service.backend('ibm_kyiv')"
   ]
  },
  {
   "cell_type": "markdown",
   "id": "20e7e742",
   "metadata": {},
   "source": [
    "# Initial layout and layer fidelity\n",
    "\n",
    "The initial layout and layer fidelities can be evaluated using the corresponding Qiskit Experiment provided here:\n",
    "1. Qiskit Experiments: https://github.com/Qiskit-Extensions/qiskit-experiments/pull/1322\n",
    "2. Tutorial: https://github.com/qiskit-community/qiskit-device-benchmarking/pull/1\n",
    "\n",
    "Tutorial in 2 can be adjusted to determine best 40 qubits and return corresponding layer fidelities of pairwise CNOTs on qubits $(2*i, 2*i+1)$ as well as $(2*i+1, 2*i+2)$ for suitable $i$."
   ]
  },
  {
   "cell_type": "code",
   "execution_count": 7,
   "id": "d09f5aa9",
   "metadata": {},
   "outputs": [],
   "source": [
    "initial_layout = [23, 22, 21, 20, 19, 18, 14, 0, 1, 2, 3, 4, 5, 6, 7, 8, \n",
    "                  16, 26, 25, 24, 34, 43, 42, 41, 53, 60, 61, 62, 72,\n",
    "                  81, 82, 83, 92, 102, 101, 100, 110, 118, 117, 116]"
   ]
  },
  {
   "cell_type": "code",
   "execution_count": 8,
   "id": "515ce2d4",
   "metadata": {},
   "outputs": [
    {
     "name": "stdout",
     "output_type": "stream",
     "text": [
      "gamma_cnot: 1.0255434472974303\n"
     ]
    }
   ],
   "source": [
    "# derived from layer fidelity experiment\n",
    "lf_1 = 0.787\n",
    "lf_2 = 0.777\n",
    "lf = lf_1 * lf_2\n",
    "cnot_fidelity = lf**(1/39)\n",
    "gamma_cnot = 1/cnot_fidelity**2\n",
    "print('gamma_cnot:', gamma_cnot)"
   ]
  },
  {
   "cell_type": "markdown",
   "id": "f857d7cc",
   "metadata": {},
   "source": [
    "# Transpile circuits"
   ]
  },
  {
   "cell_type": "code",
   "execution_count": 9,
   "id": "658d04de",
   "metadata": {},
   "outputs": [],
   "source": [
    "# set whether to transpile circuits or pre-load already transpiled circuits.\n",
    "# transpilation can take a few hours\n",
    "transpile_circuits = False"
   ]
  },
  {
   "cell_type": "markdown",
   "id": "3fa7b36a",
   "metadata": {},
   "source": [
    "## Apply Pauli twirling"
   ]
  },
  {
   "cell_type": "code",
   "execution_count": 10,
   "id": "fc71f534",
   "metadata": {},
   "outputs": [],
   "source": [
    "\"\"\"\n",
    "Transpiler Pass for Pauli Twirling\n",
    "Source: https://docs.quantum.ibm.com/transpile/custom-transpiler-pass\n",
    "\"\"\"\n",
    "\n",
    "from qiskit.dagcircuit import DAGCircuit\n",
    "from qiskit.circuit import QuantumCircuit, QuantumRegister, Gate\n",
    "from qiskit.circuit.library import CXGate, ECRGate\n",
    "from qiskit.transpiler import PassManager\n",
    "from qiskit.transpiler.basepasses import TransformationPass\n",
    "from qiskit.quantum_info import Operator, pauli_basis\n",
    " \n",
    "import numpy as np\n",
    " \n",
    "from typing import Iterable, Optional\n",
    "\n",
    "\n",
    "class PauliTwirl(TransformationPass):\n",
    "    \"\"\"Add Pauli twirls to two-qubit gates.\"\"\"\n",
    " \n",
    "    def __init__(\n",
    "        self,\n",
    "        gates_to_twirl: Optional[Iterable[Gate]] = None,\n",
    "    ):\n",
    "        \"\"\"\n",
    "        Args:\n",
    "            gates_to_twirl: Names of gates to twirl. The default behavior is to twirl all\n",
    "                two-qubit basis gates, `cx` and `ecr` for IBM backends.\n",
    "        \"\"\"\n",
    "        if gates_to_twirl is None:\n",
    "            gates_to_twirl = [CXGate(), ECRGate()]\n",
    "        self.gates_to_twirl = gates_to_twirl\n",
    "        self.build_twirl_set()\n",
    "        super().__init__()\n",
    " \n",
    "    def build_twirl_set(self):\n",
    "        \"\"\"\n",
    "        Build a set of Paulis to twirl for each gate and store internally as .twirl_set.\n",
    "        \"\"\"\n",
    "        self.twirl_set = {}\n",
    " \n",
    "        # iterate through gates to be twirled\n",
    "        for twirl_gate in self.gates_to_twirl:\n",
    "            twirl_list = []\n",
    " \n",
    "            # iterate through Paulis on left of gate to twirl\n",
    "            for pauli_left in pauli_basis(2):\n",
    " \n",
    "                # iterature through Paulis on right of gate to twirl\n",
    "                for pauli_right in pauli_basis(2):\n",
    " \n",
    "                    # save pairs that produce identical operation as gate to twirl\n",
    "                    if (Operator(pauli_left) @ Operator(twirl_gate)).equiv(Operator(twirl_gate) @ pauli_right):\n",
    "                        twirl_list.append((pauli_left, pauli_right))\n",
    " \n",
    "            self.twirl_set[twirl_gate.name] = twirl_list\n",
    " \n",
    "    def run(\n",
    "        self,\n",
    "        dag: DAGCircuit,\n",
    "    ) -> DAGCircuit:\n",
    " \n",
    "        # collect all nodes in DAG and proceed if it is to be twirled\n",
    "        twirling_gate_classes = tuple(gate.base_class for gate in self.gates_to_twirl)\n",
    "        for node in dag.op_nodes():\n",
    "            if not isinstance(node.op, twirling_gate_classes):\n",
    "                continue\n",
    " \n",
    "            # random integer to select Pauli twirl pair\n",
    "            pidx = np.random.randint(0, len(self.twirl_set[node.op.name]),)\n",
    "            twirl_pair = self.twirl_set[node.op.name][pidx]\n",
    " \n",
    "            # instantiate mini_dag and attach quantum register\n",
    "            mini_dag = DAGCircuit()\n",
    "            register = QuantumRegister(2)\n",
    "            mini_dag.add_qreg(register)\n",
    " \n",
    "            # apply left Pauli, gate to twirl, and right Pauli to empty mini-DAG\n",
    "            mini_dag.apply_operation_back(twirl_pair[0].to_instruction(), [register[0], register[1]])\n",
    "            mini_dag.apply_operation_back(node.op, [register[0], register[1]])\n",
    "            mini_dag.apply_operation_back(twirl_pair[1].to_instruction(), [register[0], register[1]])\n",
    " \n",
    "            # substitute gate to twirl node with twirling mini-DAG\n",
    "            dag.substitute_node_with_dag(node, mini_dag)\n",
    " \n",
    "        return dag"
   ]
  },
  {
   "cell_type": "code",
   "execution_count": 11,
   "id": "a9cc2751",
   "metadata": {
    "scrolled": false
   },
   "outputs": [],
   "source": [
    "# set number of twirls\n",
    "num_twirls = 20\n",
    "\n",
    "if transpile_circuits:\n",
    "    pm_twirl = PassManager([PauliTwirl()])\n",
    "    twirled_qcs = [[], []]\n",
    "    for i, qc in enumerate(qcs):\n",
    "        twirled_qcs[i] += [pm_twirl.run(qc) for _ in range(num_twirls)]"
   ]
  },
  {
   "cell_type": "markdown",
   "id": "e7901c17",
   "metadata": {},
   "source": [
    "## Apply dynamic decoupling"
   ]
  },
  {
   "cell_type": "code",
   "execution_count": 12,
   "id": "519342ad",
   "metadata": {},
   "outputs": [],
   "source": [
    "if transpile_circuits:\n",
    "    # transpile circuits to backend\n",
    "    transpiled_circs = [[], []]\n",
    "    for i, tqcs in enumerate(twirled_qcs):\n",
    "        transpiled_circs[i] += transpile(tqcs, backend, initial_layout=initial_layout, optimization_level=0)"
   ]
  },
  {
   "cell_type": "code",
   "execution_count": 13,
   "id": "eb8e91c0",
   "metadata": {},
   "outputs": [],
   "source": [
    "# prepare dynamic decoupling transpiler passes\n",
    "durations =  DynamicCircuitInstructionDurations.from_backend(backend)\n",
    "dd_sequence = [XGate(), XGate()]\n",
    "coupling_map = backend.coupling_map\n",
    "pm = PassManager(\n",
    "  [\n",
    "      ALAPScheduleAnalysis(durations),\n",
    "      PadDynamicalDecoupling(durations, dd_sequence, coupling_map=coupling_map),\n",
    "  ]\n",
    ")\n",
    "\n",
    "# XYXY sequence\n",
    "spacings = [0.125, 0.25, 0.25, 0.25, 0.125] \n",
    "alt_spacings = [0.25, 0.25, 0.25, 0.25, 0]\n",
    "decoupling_seq = [XGate(), YGate(), XGate(), YGate()]\n",
    "\n",
    "# set y durations to be equal to x durations since backend does not report y durations\n",
    "durations.update([('y', i, durations.get('x', i)) for i in range(backend.num_qubits)])\n",
    "\n",
    "min_seq_ratio = 1\n",
    "\n",
    "pm_dd = PassManager([\n",
    "    ALAPScheduleAnalysis(durations),\n",
    "    PadDynamicalDecoupling(durations, decoupling_seq, coupling_map=coupling_map, spacings=spacings,\n",
    "                           alt_spacings=alt_spacings, sequence_min_length_ratios=min_seq_ratio)\n",
    "                                   ])"
   ]
  },
  {
   "cell_type": "code",
   "execution_count": 14,
   "id": "d652c1cd",
   "metadata": {},
   "outputs": [],
   "source": [
    "final_circs = [[], []]\n",
    "if transpile_circuits:\n",
    "    for i, tqcs in enumerate(transpiled_circs):\n",
    "        for j, transpiled_circ in enumerate(tqcs):\n",
    "            final_circ = pm_dd.run(transpiled_circ)\n",
    "            final_circ = transpile(final_circ, backend, optimization_level=0)\n",
    "            final_circs[i].append(final_circ)\n",
    "else:\n",
    "    # load final transpiled circuits\n",
    "    for i in range(len(qcs)):\n",
    "        with open(f'./results/final_circs_{backend.name}_p_{i+1}.qpy', 'rb') as f:\n",
    "            final_circs[i] = qpy.load(f)"
   ]
  },
  {
   "cell_type": "code",
   "execution_count": 15,
   "id": "cc3ab22c",
   "metadata": {},
   "outputs": [],
   "source": [
    "if transpile_circuits:\n",
    "    for i in range(len(qcs)):\n",
    "        with open(f'./results/final_circs_{backend.name}_p_{i+1}.qpy', 'wb') as f:\n",
    "            qpy.dump(final_circs[i], f)"
   ]
  },
  {
   "cell_type": "markdown",
   "id": "590f8f49",
   "metadata": {},
   "source": [
    "# Run circuits"
   ]
  },
  {
   "cell_type": "markdown",
   "id": "0c8353cc",
   "metadata": {},
   "source": [
    "## Run p=1 circuit\n",
    "\n",
    "Run with 100k shots, which is the maximum the API allows."
   ]
  },
  {
   "cell_type": "code",
   "execution_count": 16,
   "id": "681b3943",
   "metadata": {},
   "outputs": [],
   "source": [
    "# prepare sampler\n",
    "options = Options(optimization_level=0)\n",
    "options.resilience_level = 0\n",
    "options.execution.shots = 100_000 // num_twirls\n",
    "options.transpilation.skip_transpilation=True\n",
    "\n",
    "sampler = Sampler(options=options, backend=backend)"
   ]
  },
  {
   "cell_type": "code",
   "execution_count": 17,
   "id": "9e26faee",
   "metadata": {},
   "outputs": [],
   "source": [
    "# determine whether to run circuits or load pre-run results\n",
    "run_circuits_1 = False"
   ]
  },
  {
   "cell_type": "code",
   "execution_count": 18,
   "id": "667cbf50",
   "metadata": {},
   "outputs": [],
   "source": [
    "if run_circuits_1:\n",
    "    job_1 = sampler.run(final_circs[0])"
   ]
  },
  {
   "cell_type": "code",
   "execution_count": 19,
   "id": "f65fdb13",
   "metadata": {},
   "outputs": [],
   "source": [
    "if run_circuits_1:\n",
    "    print(job_1.job_id())"
   ]
  },
  {
   "cell_type": "code",
   "execution_count": 20,
   "id": "a10a0cd1",
   "metadata": {},
   "outputs": [],
   "source": [
    "if run_circuits_1:\n",
    "    print(job_1.status())"
   ]
  },
  {
   "cell_type": "code",
   "execution_count": 21,
   "id": "1d8a1764",
   "metadata": {},
   "outputs": [],
   "source": [
    "if run_circuits_1:\n",
    "    result_1 = job_1.result()"
   ]
  },
  {
   "cell_type": "code",
   "execution_count": 22,
   "id": "c4bb7a6b",
   "metadata": {},
   "outputs": [],
   "source": [
    "if run_circuits_1:\n",
    "    \n",
    "    # extract probabilities and values\n",
    "    probs_1 = []\n",
    "    values_1 = []\n",
    "    # combine results from different twirls\n",
    "    for i in range(len(final_circs[0])):\n",
    "        for b, p in result_1.quasi_dists[i].binary_probabilities().items():\n",
    "            probs_1 += [p]\n",
    "            values_1 += [objective(b)]\n",
    "    probs_1 = np.array(probs_1)/len(final_circs[0])\n",
    "    values_1 = np.array(values_1)\n",
    "    idx = np.argsort(values_1)\n",
    "    probs_1 = probs_1[idx]\n",
    "    values_1 = values_1[idx]"
   ]
  },
  {
   "cell_type": "code",
   "execution_count": 23,
   "id": "672e5d74",
   "metadata": {},
   "outputs": [],
   "source": [
    "# overwrite pre-run results if circuits have been re-ran\n",
    "if run_circuits_1:\n",
    "    np.save(f'results/probs_{backend.name}_p1.npy', probs_1)\n",
    "    np.save(f'results/values_{backend.name}_p1.npy', values_1)"
   ]
  },
  {
   "cell_type": "markdown",
   "id": "66a1348e",
   "metadata": {},
   "source": [
    "### Load pre-computed p=1 results"
   ]
  },
  {
   "cell_type": "code",
   "execution_count": 24,
   "id": "ba837d80",
   "metadata": {},
   "outputs": [],
   "source": [
    "# load pre-run results if circuits have not been re-ran\n",
    "if not run_circuits_1:\n",
    "    probs_1 = np.load(f'results/probs_{backend.name}_p1.npy')\n",
    "    values_1 = np.load(f'results/values_{backend.name}_p1.npy')"
   ]
  },
  {
   "cell_type": "markdown",
   "id": "71346155",
   "metadata": {},
   "source": [
    "### plot p=1 results with 100k shots"
   ]
  },
  {
   "cell_type": "code",
   "execution_count": 25,
   "id": "b10f6a47",
   "metadata": {},
   "outputs": [],
   "source": [
    "# number comes from layer fidelity experiment\n",
    "num_cnots_1 = qcs[0].count_ops()['cx']\n",
    "sqrt_gamma_1 = gamma_cnot**(num_cnots_1/2)\n",
    "alpha_1 = 1/sqrt_gamma_1\n",
    "\n",
    "k = int(np.ceil(alpha_1*1e5))+1\n",
    "cvar_gamma_1 = np.mean(values_1[-k:])"
   ]
  },
  {
   "cell_type": "code",
   "execution_count": 26,
   "id": "12992318",
   "metadata": {},
   "outputs": [
    {
     "data": {
      "image/png": "[encoded data removed]",
      "text/plain": [
       "<Figure size 640x480 with 1 Axes>"
      ]
     },
     "metadata": {},
     "output_type": "display_data"
    }
   ],
   "source": [
    "cum_probs_1 = np.cumsum(probs_1)\n",
    "rev_cum_probs_1 = np.cumsum(probs_1[::-1])\n",
    "\n",
    "j = 1\n",
    "while (values_1[-j:]@probs_1[-j:])/rev_cum_probs_1[j-1] > noise_free_exp_vals[0]:\n",
    "    j += 1\n",
    "alpha_1_ = cum_probs_1[j-2]  # alpha' = fitted so CVaR matches expectation value\n",
    "\n",
    "best_val_1 = np.max(values_1)\n",
    "\n",
    "gamma_1_ = 1/alpha_1_**2\n",
    "gamma_cnot_1_ = gamma_1_**(1/num_cnots_1)\n",
    "\n",
    "mean_1 = values_1 @ probs_1\n",
    "\n",
    "plt.title(rf\"$\\alpha'$={np.round(alpha_1_, decimals=4)} | $\\gamma'_{{CX}}$={np.round(gamma_cnot_1_, decimals=4)} | #CX={num_cnots_1} | $f_{{best}}$={int(best_val_1)}\")\n",
    "\n",
    "plt.vlines(opt_val, 0, 1, 'g')\n",
    "plt.vlines(noise_free_exp_vals[0], 0, 1, 'c', linestyles='-.')\n",
    "plt.vlines(cvar_gamma_1, 0, 1, 'c', linestyles=':')\n",
    "plt.plot(values_1, cum_probs_1, 'b', label=f'p={1}')\n",
    "plt.vlines(mean_1, 0, 1, 'b', linestyles='--')\n",
    "\n",
    "plt.xlim(0, 60)\n",
    "plt.legend(loc='upper left')\n",
    "\n",
    "plt.ylabel('probabilities')\n",
    "plt.xlabel('objective values')\n",
    "\n",
    "plt.show()"
   ]
  },
  {
   "cell_type": "markdown",
   "id": "aa354418",
   "metadata": {},
   "source": [
    "## Run p=2 circuit\n",
    "\n",
    "Run with 10M shots, which needs to be split into 5 jobs with 20 circuits each and 100k shots per circuit due to the maximum number of shots per circuit of 100k."
   ]
  },
  {
   "cell_type": "code",
   "execution_count": 27,
   "id": "ecf66cfc",
   "metadata": {},
   "outputs": [],
   "source": [
    "# prepare sampler\n",
    "options = Options(optimization_level=0)\n",
    "options.resilience_level = 0\n",
    "options.execution.shots = 100_000\n",
    "options.transpilation.skip_transpilation=True\n",
    "\n",
    "sampler = Sampler(options=options, backend=backend)"
   ]
  },
  {
   "cell_type": "code",
   "execution_count": 28,
   "id": "1c944e5b",
   "metadata": {},
   "outputs": [],
   "source": [
    "# determine whether to run circuits or load pre-run results\n",
    "run_circuits_2 = False"
   ]
  },
  {
   "cell_type": "code",
   "execution_count": 29,
   "id": "0407d175",
   "metadata": {},
   "outputs": [],
   "source": [
    "if run_circuits_2:\n",
    "\n",
    "    num_jobs = 5\n",
    "\n",
    "    jobs = []\n",
    "    for i in range(num_jobs):\n",
    "        job = sampler.run(final_circs[1])\n",
    "        jobs += [job]"
   ]
  },
  {
   "cell_type": "code",
   "execution_count": 30,
   "id": "cfdaaf69",
   "metadata": {},
   "outputs": [],
   "source": [
    "if run_circuits_2:\n",
    "    for job in jobs:\n",
    "        print(job.status())"
   ]
  },
  {
   "cell_type": "code",
   "execution_count": 31,
   "id": "f0e08bee",
   "metadata": {},
   "outputs": [],
   "source": [
    "if run_circuits_2:\n",
    "    batch_results = []\n",
    "    for job in jobs:\n",
    "        batch_results += [job.result()]"
   ]
  },
  {
   "cell_type": "code",
   "execution_count": 32,
   "id": "737dd22c",
   "metadata": {},
   "outputs": [],
   "source": [
    "if run_circuits_2:\n",
    "    probs_2 = []\n",
    "    values_2 = []\n",
    "    for result in batch_results:\n",
    "        for i in range(len(final_circs[1])):\n",
    "            for b, p in result.quasi_dists[i].binary_probabilities().items():\n",
    "                probs_2 += [p]\n",
    "                values_2 += [objective(b)]"
   ]
  },
  {
   "cell_type": "code",
   "execution_count": 33,
   "id": "f6600034",
   "metadata": {},
   "outputs": [],
   "source": [
    "if run_circuits_2:\n",
    "    probs_2 = np.array(probs_2)/len(final_circs[1])/num_jobs\n",
    "    values_2 = np.array(values_2)\n",
    "    idx = np.argsort(values_2)\n",
    "    probs_2 = probs_2[idx]\n",
    "    values_2 = values_2[idx]"
   ]
  },
  {
   "cell_type": "code",
   "execution_count": 34,
   "id": "ecc1fe8b",
   "metadata": {},
   "outputs": [],
   "source": [
    "# save results if circuits have been re-run\n",
    "if run_circuits_2:\n",
    "    np.save(f'results/probs_{backend.name}_p2.npy', probs_2)\n",
    "    np.save(f'results/values_{backend.name}_p2.npy', values_2)"
   ]
  },
  {
   "cell_type": "markdown",
   "id": "42e9c436",
   "metadata": {},
   "source": [
    "### Load pre-computed p=2 results"
   ]
  },
  {
   "cell_type": "code",
   "execution_count": 35,
   "id": "7e4d0aeb",
   "metadata": {},
   "outputs": [],
   "source": [
    "# load pre-ran results if circuits are not run\n",
    "if not run_circuits_2:\n",
    "    probs_2 = np.load(f'results/probs_{backend.name}_p2.npy')\n",
    "    values_2 = np.load(f'results/values_{backend.name}_p2.npy')"
   ]
  },
  {
   "cell_type": "markdown",
   "id": "38c31d89",
   "metadata": {},
   "source": [
    "### Plot p=2 results with 10M shots"
   ]
  },
  {
   "cell_type": "code",
   "execution_count": 36,
   "id": "64347194",
   "metadata": {},
   "outputs": [],
   "source": [
    "# number comes from layer fidelity experiment\n",
    "num_cnots_2 = qcs[1].count_ops()['cx']\n",
    "sqrt_gamma_2 = gamma_cnot**(num_cnots_2/2)\n",
    "alpha_2 = 1/sqrt_gamma_2\n",
    "\n",
    "k = int(np.ceil(alpha_2*1e7))+1\n",
    "cvar_gamma_2 = np.mean(values_2[-k:])"
   ]
  },
  {
   "cell_type": "code",
   "execution_count": 37,
   "id": "3c109631",
   "metadata": {},
   "outputs": [
    {
     "data": {
      "image/png": "[encoded data removed]",
      "text/plain": [
       "<Figure size 640x480 with 1 Axes>"
      ]
     },
     "metadata": {},
     "output_type": "display_data"
    }
   ],
   "source": [
    "cum_probs_2 = np.cumsum(probs_2)\n",
    "rev_cum_probs_2 = np.cumsum(probs_2[::-1])\n",
    "\n",
    "j = 1\n",
    "while (values_2[-j:]@probs_2[-j:])/rev_cum_probs_2[j-1] > noise_free_exp_vals[1]:\n",
    "    j += 1\n",
    "alpha_2_ = cum_probs_2[j-2]\n",
    "\n",
    "best_val_2 = np.max(values_2)\n",
    "gamma_2_ = 1/alpha_2_**2\n",
    "gamma_cnot_2_ = gamma_2_**(1/num_cnots_2)\n",
    "mean_2 = values_2 @ probs_2\n",
    "\n",
    "plt.title(rf\"$\\alpha'$={np.round(alpha_2_, decimals=4)} | $\\gamma'_{{CX}}$={np.round(gamma_cnot_2_, decimals=4)} | #CX={num_cnots_2} | $f_{{best}}$={int(best_val_2)}\")\n",
    "plt.vlines(opt_val, 0, 1, 'g')\n",
    "plt.vlines(noise_free_exp_vals[1], 0, 1, 'c', linestyles='-.')\n",
    "plt.vlines(cvar_gamma_2, 0, 1, 'c', linestyles=':')\n",
    "plt.plot(values_2, cum_probs_2, 'b', label=f'p={2}')\n",
    "plt.vlines(mean_2, 0, 1, 'b', linestyles='--')\n",
    "plt.xlim(0, 60)\n",
    "plt.legend(loc='upper left')\n",
    "plt.ylabel('probabilities')\n",
    "plt.xlabel('objective values')\n",
    "plt.show()"
   ]
  },
  {
   "cell_type": "markdown",
   "id": "e1ee21e4",
   "metadata": {
    "scrolled": true
   },
   "source": [
    "# Figure 1"
   ]
  },
  {
   "cell_type": "code",
   "execution_count": 38,
   "id": "b737f888",
   "metadata": {},
   "outputs": [
    {
     "data": {
      "image/png": "[encoded data removed]",
      "text/plain": [
       "<Figure size 640x480 with 2 Axes>"
      ]
     },
     "metadata": {},
     "output_type": "display_data"
    }
   ],
   "source": [
    "plt.subplots(2,1)\n",
    "\n",
    "# p = 1\n",
    "plt.subplot(2,1,1)\n",
    "plt.title(rf\"$\\alpha'$={np.round(alpha_1_, decimals=4)} | $\\gamma'_{{CX}}$={np.round(gamma_cnot_1_, decimals=4)} | #CX={num_cnots_1} | $f_{{best}}$={int(best_val_1)}\")\n",
    "plt.vlines(opt_val, 0, 1, 'g')\n",
    "plt.vlines(noise_free_exp_vals[0], 0, 1, 'c', linestyles='-.')\n",
    "plt.vlines(cvar_gamma_1, 0, 1, 'c', linestyles=':')\n",
    "plt.plot(values_1, cum_probs_1, 'b', label=f'p={1}')\n",
    "plt.vlines(mean_1, 0, 1, 'b', linestyles='--')\n",
    "plt.xlim(0, 60)\n",
    "plt.legend(loc='upper left')\n",
    "plt.ylabel('probabilities')\n",
    "\n",
    "# p = 2\n",
    "plt.subplot(2,1,2)\n",
    "plt.title(rf\"$\\alpha'$={np.round(alpha_2_, decimals=4)} | $\\gamma'_{{CX}}$={np.round(gamma_cnot_2_, decimals=4)} | #CX={num_cnots_2} | $f_{{best}}$={int(best_val_2)}\")\n",
    "plt.vlines(opt_val, 0, 1, 'g')\n",
    "plt.vlines(noise_free_exp_vals[1], 0, 1, 'c', linestyles='-.')\n",
    "plt.vlines(cvar_gamma_2, 0, 1, 'c', linestyles=':')\n",
    "plt.plot(values_2, cum_probs_2, 'b', label=f'p={2}')\n",
    "plt.vlines(mean_2, 0, 1, 'b', linestyles='--')\n",
    "plt.xlim(0, 60)\n",
    "plt.legend(loc='upper left')\n",
    "plt.ylabel('probabilities')\n",
    "plt.xlabel('objective values')\n",
    "\n",
    "plt.tight_layout()\n",
    "plt.savefig(f'results/figure_1_{backend.name}.pdf')\n",
    "plt.show()"
   ]
  },
  {
   "cell_type": "markdown",
   "id": "235a5d7a",
   "metadata": {},
   "source": [
    "# Table 1"
   ]
  },
  {
   "cell_type": "code",
   "execution_count": 39,
   "id": "529c9728",
   "metadata": {},
   "outputs": [
    {
     "name": "stdout",
     "output_type": "stream",
     "text": [
      "==============================\n",
      "global optimum:   56\n",
      "gamma_cnot:       1.0255\n",
      "==============================\n",
      "p=1\n",
      "==============================\n",
      "noisy mean:       30.167\n",
      "noise-free mean:  41.516\n",
      "CVaR_alpha:       42.11\n",
      "best sample:      48.0\n",
      "------------------------------\n",
      "#CNOTs:           461\n",
      "sqrt(gamma):      334.897\n",
      "alpha:            0.00298599\n",
      "alpha_prime:      0.00505\n",
      "gamma_cnot_prime: 1.0232\n",
      "==============================\n",
      "p=2\n",
      "==============================\n",
      "noisy mean:      30.05\n",
      "noise-free mean: 45.272\n",
      "CVaR_alpha:      47.516\n",
      "best sample:     50.0\n",
      "------------------------------\n",
      "#CNOTs:           922\n",
      "sqrt(gamma):      112156.261\n",
      "alpha:            8.92e-06\n",
      "alpha_prime:      0.0001288\n",
      "gamma_cnot_prime: 1.0196\n",
      "==============================\n"
     ]
    }
   ],
   "source": [
    "def npr(x, d=3):\n",
    "    return np.round(x, decimals=d)\n",
    "\n",
    "print('==============================')\n",
    "print('global optimum:  ', opt_val)\n",
    "print('gamma_cnot:      ', npr(gamma_cnot, 4))\n",
    "print('==============================')\n",
    "print('p=1')\n",
    "print('==============================')\n",
    "print('noisy mean:      ', npr(mean_1))\n",
    "print('noise-free mean: ', npr(noise_free_exp_vals[0]))\n",
    "print('CVaR_alpha:      ', npr(cvar_gamma_1))\n",
    "print('best sample:     ', best_val_1)\n",
    "print('------------------------------')\n",
    "print('#CNOTs:          ', npr(num_cnots_1, 4))\n",
    "print('sqrt(gamma):     ', npr(sqrt_gamma_1))\n",
    "print('alpha:           ', npr(alpha_1, 8))\n",
    "print('alpha_prime:     ', npr(alpha_1_, 8))\n",
    "print('gamma_cnot_prime:', npr(gamma_cnot_1_, 4))\n",
    "print('==============================')\n",
    "print('p=2')\n",
    "print('==============================')\n",
    "print('noisy mean:     ', npr(mean_2))\n",
    "print('noise-free mean:', npr(noise_free_exp_vals[1]))\n",
    "print('CVaR_alpha:     ', npr(cvar_gamma_2))\n",
    "print('best sample:    ', best_val_2)\n",
    "print('------------------------------')\n",
    "print('#CNOTs:          ', npr(num_cnots_2, 4))\n",
    "print('sqrt(gamma):     ', npr(sqrt_gamma_2))\n",
    "print('alpha:           ', npr(alpha_2, 8))\n",
    "print('alpha_prime:     ', npr(alpha_2_, 8))\n",
    "print('gamma_cnot_prime:', npr(gamma_cnot_2_, 4))\n",
    "print('==============================')"
   ]
  },
  {
   "cell_type": "code",
   "execution_count": null,
   "id": "bf2396f0",
   "metadata": {},
   "outputs": [],
   "source": []
  }
 ],
 "metadata": {
  "kernelspec": {
   "display_name": "Python 3 (ipykernel)",
   "language": "python",
   "name": "python3"
  },
  "language_info": {
   "codemirror_mode": {
    "name": "ipython",
    "version": 3
   },
   "file_extension": ".py",
   "mimetype": "text/x-python",
   "name": "python",
   "nbconvert_exporter": "python",
   "pygments_lexer": "ipython3",
   "version": "3.12.2"
  }
 },
 "nbformat": 4,
 "nbformat_minor": 5
}
