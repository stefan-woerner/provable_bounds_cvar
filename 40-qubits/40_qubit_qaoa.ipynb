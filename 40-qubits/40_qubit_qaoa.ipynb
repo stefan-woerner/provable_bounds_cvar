{
 "cells": [
  {
   "cell_type": "markdown",
   "id": "e32bf045",
   "metadata": {},
   "source": [
    "###########################################################################<br>\n",
    "\\# This code is associated to the paper:<br>\n",
    "\\# <b>Provable bounds for noise-free expectation values computed from noisy samples</b><br>\n",
    "\\# (https://arxiv.org/abs/2312.00733)<br>\n",
    "\\# <br>\n",
    "\\# (C) Copyright IBM 2024.<br>\n",
    "\\# <br>\n",
    "\\# Any modifications or derivative works of this code must retain<br>\n",
    "\\# this copyright notice, and modified files need to carry a notice<br>\n",
    "\\# indicating that they have been altered from the originals.<br>\n",
    "###########################################################################"
   ]
  },
  {
   "cell_type": "markdown",
   "id": "d923cc6e",
   "metadata": {},
   "source": [
    "# 40-qubit QAOA\n",
    "\n",
    "QAOA for maxcut on random 3-regular graph with 40 nodes presented in https://arxiv.org/abs/2312.00733.\n",
    "\n",
    "Original source of graph and circuit: \n",
    "- [1] Paper: \"Large-scale quantum approximate optimization on non-planar graphs with machine learning noise mitigation\", [arXiv:2307.14427](https://arxiv.org/abs/2307.14427) (2023). \n",
    "- [2] Repository: https://github.com/eggerdj/large_scale_qaoa\n",
    "\n",
    "This notebook contains the code for:\n",
    "- [Figure 4](#Figure-4)\n",
    "- [Table 1](#Table-1)"
   ]
  },
  {
   "cell_type": "code",
   "execution_count": 1,
   "id": "999bfc8c",
   "metadata": {},
   "outputs": [],
   "source": [
    "import os.path\n",
    "from zipfile import ZipFile\n",
    "from tqdm import tqdm\n",
    "import json\n",
    "from tqdm import tqdm\n",
    "import numpy as np\n",
    "import matplotlib.pyplot as plt\n",
    "\n",
    "from qiskit import QuantumCircuit, qpy\n",
    "from qiskit.transpiler.preset_passmanagers import generate_preset_pass_manager\n",
    "\n",
    "from qiskit_ibm_runtime import QiskitRuntimeService\n",
    "from qiskit_ibm_runtime import SamplerV2, Batch\n",
    "\n",
    "from qiskit_optimization.applications import Maxcut\n",
    "\n",
    "import mthree"
   ]
  },
  {
   "cell_type": "code",
   "execution_count": 2,
   "id": "3fd1cb7e",
   "metadata": {},
   "outputs": [],
   "source": [
    "# optimal solution\n",
    "opt_val = 56\n",
    "\n",
    "# noise-free QAOA expectation values evaluated via lightcone optimization (cf. original source [1])\n",
    "# p = 1, 2\n",
    "noise_free_exp_vals = [41.5165, 45.2717]"
   ]
  },
  {
   "cell_type": "code",
   "execution_count": 3,
   "id": "59c4bb92",
   "metadata": {},
   "outputs": [],
   "source": [
    "# load graph\n",
    "graph = json.load(open('./data/graph_7layers_8seed.json'))\n",
    "problem = Maxcut(graph['Original graph'])\n",
    "qp = problem.to_quadratic_program()\n",
    "\n",
    "# define Maxcut objective\n",
    "def objective(x):\n",
    "    return qp.objective.evaluate([int(b) for b in reversed(x)])"
   ]
  },
  {
   "cell_type": "code",
   "execution_count": 4,
   "id": "d4aa07b2",
   "metadata": {},
   "outputs": [],
   "source": [
    "# load circuits\n",
    "with open('./data/circuits_40_qubits.qpy', 'rb') as f:\n",
    "    qcs = qpy.load(f)"
   ]
  },
  {
   "cell_type": "code",
   "execution_count": 5,
   "id": "04f2f561-3718-4475-a20f-56acc694f9cb",
   "metadata": {},
   "outputs": [],
   "source": [
    "def unzip_and_load_results_file(filename):\n",
    "    \n",
    "    # unzip file\n",
    "    if not os.path.isfile(f'results/{filename}'):\n",
    "        print(f'unzip {filename}.zip... ', end='')\n",
    "        with ZipFile(f'results/{filename}.zip', 'r') as zf:\n",
    "            zf.extractall(path='results/')\n",
    "            print('done!')\n",
    "\n",
    "    # load file\n",
    "    print(f'load  {filename}...     ', end='')\n",
    "    with open(f'results/{filename}', 'r') as f:\n",
    "        data = json.load(f)\n",
    "    print('done!')\n",
    "    return data"
   ]
  },
  {
   "cell_type": "code",
   "execution_count": 6,
   "id": "df33fffc",
   "metadata": {},
   "outputs": [],
   "source": [
    "# instantiate Qiskit runtime service\n",
    "# service = QiskitRuntimeService(channel='ibm_quantum')\n",
    "service = QiskitRuntimeService(channel=\"ibm_quantum\", instance='quantum-demonstrations/high-priority/qemcvar')"
   ]
  },
  {
   "cell_type": "code",
   "execution_count": 7,
   "id": "2d68e8e2",
   "metadata": {},
   "outputs": [],
   "source": [
    "# select backend\n",
    "backend = service.backend('ibm_sherbrooke')"
   ]
  },
  {
   "cell_type": "markdown",
   "id": "20e7e742",
   "metadata": {},
   "source": [
    "# Initial layout and layer fidelity\n",
    "\n",
    "The initial layout and layer fidelities can be evaluated using the following notebook:\n",
    "\n",
    "https://github.com/qiskit-community/qiskit-device-benchmarking/blob/main/notebooks/layer_fidelity.ipynb\n",
    "\n",
    "The notebook can be adjusted to determine the best 40 qubits and return the corresponding layer fidelities of pairwise CNOTs on qubits $(2*i, 2*i+1)$ as well as $(2*i+1, 2*i+2)$ for suitable $i$."
   ]
  },
  {
   "cell_type": "code",
   "execution_count": 8,
   "id": "d09f5aa9",
   "metadata": {},
   "outputs": [],
   "source": [
    "##########################################################################################\n",
    "# insert initial layout from layer fidelity experiments\n",
    "initial_layout = [ 50,  51,  36,  32,  31,  30,  17,  12,  11,  10,   9,   8,  16,\n",
    "        26,  25,  24,  34,  43,  44,  45,  54,  64,  65,  66,  73,  85,\n",
    "        86,  87,  93, 106, 107, 108, 112, 126, 125, 124, 123, 122, 121,\n",
    "       120 ]\n",
    "##########################################################################################"
   ]
  },
  {
   "cell_type": "markdown",
   "id": "f857d7cc",
   "metadata": {},
   "source": [
    "# Transpile circuits"
   ]
  },
  {
   "cell_type": "code",
   "execution_count": 9,
   "id": "cc3ab22c",
   "metadata": {},
   "outputs": [],
   "source": [
    "# transpile circuits to backend\n",
    "preset_manager = generate_preset_pass_manager(backend=backend, optimization_level=0, \n",
    "                                              initial_layout=initial_layout)\n",
    "transpiled_qcs = preset_manager.run(qcs)    "
   ]
  },
  {
   "cell_type": "markdown",
   "id": "025f74c9-c9f5-44d2-8548-bb79c807f026",
   "metadata": {},
   "source": [
    "# Run circuits"
   ]
  },
  {
   "cell_type": "code",
   "execution_count": 10,
   "id": "6bfa48b1-02ff-431f-afb4-f1f7c4bd1639",
   "metadata": {},
   "outputs": [],
   "source": [
    "# uncomment to run circuits, otherwise, precomputed data will be loaded\n",
    "# note that this will also overwrite the M3 measurement error calibrations\n",
    "run_circuits = False"
   ]
  },
  {
   "cell_type": "code",
   "execution_count": 11,
   "id": "ef4c44ce-732e-4a3c-9341-2680a2af00ed",
   "metadata": {},
   "outputs": [
    {
     "name": "stdout",
     "output_type": "stream",
     "text": [
      "load  counts_1.json...     done!\n",
      "load  counts_2.json...     done!\n"
     ]
    }
   ],
   "source": [
    "cals_file = f'results/m3_cals_{backend.name}.json'\n",
    "if run_circuits:\n",
    "    \n",
    "    # submit circuits to backend\n",
    "    shots = 100_000\n",
    "    job_1 = None\n",
    "    jobs_2 = []\n",
    "    result_1 = None\n",
    "    results_2 = []\n",
    "    print('start jobs')\n",
    "    with Batch(backend=backend) as batch:\n",
    "    \n",
    "        sampler = SamplerV2(session=batch)\n",
    "        sampler.options.dynamical_decoupling.enable = True\n",
    "        sampler.options.dynamical_decoupling.sequence_type = 'XY4'\n",
    "        sampler.options.twirling.enable_gates = True\n",
    "    \n",
    "        # send job with 100k shots for p=1\n",
    "        job_1 = sampler.run([transpiled_qcs[0]], shots=shots)\n",
    "    \n",
    "        # send 10 jobs with 10 circuits with 100k shots each to get a total of 10M shots\n",
    "        for _ in range(10):\n",
    "            jobs_2 += [sampler.run([transpiled_qcs[1]]*10, shots=shots)]\n",
    "    \n",
    "    # calibrate M3 readout error mitigation\n",
    "    print('calibrate M3')\n",
    "    shots_m3 = 10_000\n",
    "    mit = mthree.M3Mitigation(backend)\n",
    "    mit.cals_from_system(initial_layout, shots=shots_m3)\n",
    "    \n",
    "    # store M3 calibration data\n",
    "    mit.cals_to_file(cals_file=cals_file)\n",
    "    \n",
    "    # get results\n",
    "    print('get results')\n",
    "    result_1 = job_1.result()\n",
    "    for job in jobs_2:\n",
    "        results_2 +=[job.result()]\n",
    "\n",
    "    # get counts for p=1\n",
    "    creg_1 = list(result_1[0].data.keys())[0]\n",
    "    counts_1 = result_1[0].data[creg_1].get_counts()\n",
    "\n",
    "    # save counts_1 to file\n",
    "    with open('results/counts_1.json', 'w') as f:\n",
    "        json.dump(counts_1, f)\n",
    "\n",
    "    # get counts for p=2\n",
    "    counts_2 = []\n",
    "    for result in results_2:\n",
    "        for r in result:\n",
    "            creg_2 = list(r.data.keys())[0]\n",
    "            counts_2 += [r.data[creg_2].get_counts()]\n",
    "\n",
    "    # save counts_2 to file\n",
    "    with open('results/counts_2.json', 'w') as f:\n",
    "        json.dump(counts_2, f)\n",
    "\n",
    "else:\n",
    "    # unzip and load counts for p=1,2\n",
    "    counts_1 = unzip_and_load_results_file('counts_1.json')\n",
    "    counts_2 = unzip_and_load_results_file('counts_2.json')"
   ]
  },
  {
   "cell_type": "code",
   "execution_count": 12,
   "id": "d0de2c56-2605-4fed-996d-ea7de38be8cb",
   "metadata": {},
   "outputs": [],
   "source": [
    "# uncomment to run M3 measurement error mitigation, otherwise, precomputed data will be loaded\n",
    "run_m3 = False"
   ]
  },
  {
   "cell_type": "code",
   "execution_count": 13,
   "id": "a7466867-5c43-4432-b614-e618fdd637f2",
   "metadata": {},
   "outputs": [
    {
     "name": "stdout",
     "output_type": "stream",
     "text": [
      "load  quasis_1.json...     done!\n"
     ]
    }
   ],
   "source": [
    "if run_m3:\n",
    "\n",
    "    print('start error mitigation for p=1')\n",
    "\n",
    "    # load calibrations from file\n",
    "    mit = mthree.M3Mitigation()\n",
    "    mit.cals_from_file(cals_file)\n",
    "    max_iter = 25\n",
    "\n",
    "    # apply M3 readout error mitigation\n",
    "    res_1 = mit.apply_correction(counts_1, initial_layout, distance=5, method='iterative', max_iter=max_iter, details=True)\n",
    "    quasis_1 = res_1[0]\n",
    "    if res_1[1]['iterations'] == max_iter:\n",
    "        print(f'Warning: max. iter. reached!')\n",
    "\n",
    "    # save quasis_1 to file\n",
    "    with open('results/quasis_1.json', 'w') as f:\n",
    "        json.dump(quasis_1, f)\n",
    "\n",
    "else:\n",
    "    \n",
    "    # unzip and load quasis for p=1\n",
    "    quasis_1 = unzip_and_load_results_file('quasis_1.json')"
   ]
  },
  {
   "cell_type": "code",
   "execution_count": 14,
   "id": "e8dd1deb-e7a5-4118-8f99-ed3a71ad47b5",
   "metadata": {},
   "outputs": [
    {
     "name": "stdout",
     "output_type": "stream",
     "text": [
      "load  quasis_2.json...     done!\n"
     ]
    }
   ],
   "source": [
    "if run_m3:\n",
    "\n",
    "    print('start error mitigation for p=2')\n",
    "\n",
    "    # load calibrations from file\n",
    "    mit = mthree.M3Mitigation()\n",
    "    mit.cals_from_file(cals_file)\n",
    "    max_iter = 25\n",
    "    \n",
    "    # apply M3 readout error mitigation\n",
    "    quasis_2 = []\n",
    "    for cts in tqdm(counts_2):\n",
    "        res_2 = mit.apply_correction(cts, initial_layout, distance=3, method='iterative', max_iter=max_iter, details=True)\n",
    "        quasis_2 += [res_2[0]]\n",
    "        if res_2[1]['iterations'] == max_iter:\n",
    "            print(f'Warning: max. iter. reached!')\n",
    "\n",
    "    # save quasis_2 to file\n",
    "    with open('results/quasis_2.json', 'w') as f:\n",
    "        json.dump(quasis_2, f)\n",
    "\n",
    "else:\n",
    "    # unzip and load quasis for p=2\n",
    "    quasis_2 = unzip_and_load_results_file('quasis_2.json')"
   ]
  },
  {
   "cell_type": "markdown",
   "id": "590f8f49",
   "metadata": {},
   "source": [
    "# Evaluate results"
   ]
  },
  {
   "cell_type": "code",
   "execution_count": 15,
   "id": "515ce2d4",
   "metadata": {},
   "outputs": [
    {
     "name": "stdout",
     "output_type": "stream",
     "text": [
      "gamma_cnot: 1.0270080122917584\n"
     ]
    }
   ],
   "source": [
    "##########################################################################################\n",
    "# derived from layer fidelity experiment\n",
    "# July 30, 2024: ibm_sherbrooke\n",
    "lf_1 = 0.7510\n",
    "lf_2 = 0.7919\n",
    "##########################################################################################\n",
    "\n",
    "lf = lf_1 * lf_2\n",
    "cnot_fidelity = lf**(1/39)\n",
    "gamma_cnot = 1/cnot_fidelity**2\n",
    "print('gamma_cnot:', gamma_cnot)"
   ]
  },
  {
   "cell_type": "markdown",
   "id": "71346155",
   "metadata": {},
   "source": [
    "## Plot p=1 results with 100k shots"
   ]
  },
  {
   "cell_type": "code",
   "execution_count": 16,
   "id": "c4bb7a6b",
   "metadata": {},
   "outputs": [
    {
     "name": "stderr",
     "output_type": "stream",
     "text": [
      "100%|████████████████████████████████████████████████████████████████████████████████████████████████████████████| 100000/100000 [00:23<00:00, 4288.74it/s]\n"
     ]
    }
   ],
   "source": [
    "# extract probabilities and values\n",
    "probs_1 = []\n",
    "values_1 = []\n",
    "for b, p in tqdm(quasis_1.items()):\n",
    "    probs_1 += [p]\n",
    "    values_1 += [objective(b)]\n",
    "probs_1 = np.array(probs_1)\n",
    "values_1 = np.array(values_1)\n",
    "idx = np.argsort(values_1)\n",
    "probs_1 = probs_1[idx]\n",
    "values_1 = values_1[idx]"
   ]
  },
  {
   "cell_type": "code",
   "execution_count": 17,
   "id": "b10f6a47",
   "metadata": {},
   "outputs": [],
   "source": [
    "# number comes from layer fidelity experiment\n",
    "num_cnots_1 = qcs[0].count_ops()['cx']\n",
    "sqrt_gamma_1 = gamma_cnot**(num_cnots_1/2)\n",
    "alpha_1 = 1/sqrt_gamma_1\n",
    "\n",
    "k = int(np.ceil(alpha_1*1e5))+1\n",
    "cvar_gamma_1 = np.mean(values_1[-k:])"
   ]
  },
  {
   "cell_type": "code",
   "execution_count": 18,
   "id": "12992318",
   "metadata": {},
   "outputs": [
    {
     "data": {
      "image/png": "[encoded data removed]",
      "text/plain": [
       "<Figure size 640x480 with 1 Axes>"
      ]
     },
     "metadata": {},
     "output_type": "display_data"
    }
   ],
   "source": [
    "cum_probs_1 = np.cumsum(probs_1)\n",
    "rev_cum_probs_1 = np.cumsum(probs_1[::-1])\n",
    "\n",
    "j = 1\n",
    "while (values_1[-j:]@probs_1[-j:])/rev_cum_probs_1[j-1] > noise_free_exp_vals[0]:\n",
    "    j += 1\n",
    "alpha_1_ = cum_probs_1[j-2]  # alpha' = fitted so CVaR matches expectation value\n",
    "\n",
    "best_val_1 = np.max(values_1)\n",
    "\n",
    "gamma_1_ = 1/alpha_1_**2\n",
    "gamma_cnot_1_ = gamma_1_**(1/num_cnots_1)\n",
    "\n",
    "mean_1 = values_1 @ probs_1\n",
    "\n",
    "plt.title(rf\"$\\alpha'$={np.round(alpha_1_, decimals=4)} | $\\gamma'_{{CX}}$={np.round(gamma_cnot_1_, decimals=4)} | #CX={num_cnots_1} | $f_{{best}}$={int(best_val_1)}\")\n",
    "\n",
    "plt.vlines(opt_val, 0, 1, 'g')\n",
    "plt.vlines(noise_free_exp_vals[0], 0, 1, 'c', linestyles='-.')\n",
    "plt.vlines(cvar_gamma_1, 0, 1, 'c', linestyles=':')\n",
    "plt.plot(values_1, cum_probs_1, 'b', label=f'p={1}')\n",
    "plt.vlines(mean_1, 0, 1, 'b', linestyles='--')\n",
    "\n",
    "plt.xlim(0, 60)\n",
    "plt.legend(loc='upper left')\n",
    "\n",
    "plt.ylabel('probabilities')\n",
    "plt.xlabel('objective values')\n",
    "\n",
    "plt.show()"
   ]
  },
  {
   "cell_type": "markdown",
   "id": "aa354418",
   "metadata": {},
   "source": [
    "## Evaluate p=2 results with 10M shots"
   ]
  },
  {
   "cell_type": "code",
   "execution_count": null,
   "id": "737dd22c",
   "metadata": {},
   "outputs": [
    {
     "name": "stderr",
     "output_type": "stream",
     "text": [
      " 14%|████████████████▍                                                                                                    | 14/100 [05:16<32:54, 22.96s/it]"
     ]
    }
   ],
   "source": [
    "probs_2 = []\n",
    "values_2 = []\n",
    "for q in tqdm(quasis_2):\n",
    "    for b, p in q.items():\n",
    "        probs_2 += [p]\n",
    "        values_2 += [objective(b)]"
   ]
  },
  {
   "cell_type": "code",
   "execution_count": null,
   "id": "f6600034",
   "metadata": {},
   "outputs": [],
   "source": [
    "probs_2 = np.array(probs_2) / len(quasis_2)\n",
    "values_2 = np.array(values_2)\n",
    "idx = np.argsort(values_2)\n",
    "probs_2 = probs_2[idx]\n",
    "values_2 = values_2[idx]"
   ]
  },
  {
   "cell_type": "markdown",
   "id": "38c31d89",
   "metadata": {},
   "source": [
    "## Plot p=2 results with 10M shots"
   ]
  },
  {
   "cell_type": "code",
   "execution_count": null,
   "id": "64347194",
   "metadata": {},
   "outputs": [],
   "source": [
    "# number comes from layer fidelity experiment\n",
    "num_cnots_2 = qcs[1].count_ops()['cx']\n",
    "sqrt_gamma_2 = gamma_cnot**(num_cnots_2/2)\n",
    "alpha_2 = 1/sqrt_gamma_2\n",
    "\n",
    "k = int(np.ceil(alpha_2*1e7))+1\n",
    "cvar_gamma_2 = np.mean(values_2[-k:])"
   ]
  },
  {
   "cell_type": "code",
   "execution_count": null,
   "id": "3c109631",
   "metadata": {},
   "outputs": [],
   "source": [
    "cum_probs_2 = np.cumsum(probs_2)\n",
    "rev_cum_probs_2 = np.cumsum(probs_2[::-1])\n",
    "\n",
    "j = 1\n",
    "while (values_2[-j:]@probs_2[-j:])/rev_cum_probs_2[j-1] > noise_free_exp_vals[1]:\n",
    "    j += 1\n",
    "alpha_2_ = cum_probs_2[j-2]\n",
    "\n",
    "best_val_2 = np.max(values_2)\n",
    "gamma_2_ = 1/alpha_2_**2\n",
    "gamma_cnot_2_ = gamma_2_**(1/num_cnots_2)\n",
    "mean_2 = values_2 @ probs_2\n",
    "\n",
    "plt.title(rf\"$\\alpha'$={np.round(alpha_2_, decimals=4)} | $\\gamma'_{{CX}}$={np.round(gamma_cnot_2_, decimals=4)} | #CX={num_cnots_2} | $f_{{best}}$={int(best_val_2)}\")\n",
    "plt.vlines(opt_val, 0, 1, 'g')\n",
    "plt.vlines(noise_free_exp_vals[1], 0, 1, 'c', linestyles='-.')\n",
    "plt.vlines(cvar_gamma_2, 0, 1, 'c', linestyles=':')\n",
    "plt.plot(values_2, cum_probs_2, 'b', label=f'p={2}')\n",
    "plt.vlines(mean_2, 0, 1, 'b', linestyles='--')\n",
    "plt.xlim(0, 60)\n",
    "plt.legend(loc='upper left')\n",
    "plt.ylabel('probabilities')\n",
    "plt.xlabel('objective values')\n",
    "plt.show()"
   ]
  },
  {
   "cell_type": "markdown",
   "id": "e1ee21e4",
   "metadata": {
    "scrolled": true
   },
   "source": [
    "# Figure 4"
   ]
  },
  {
   "cell_type": "code",
   "execution_count": null,
   "id": "b737f888",
   "metadata": {},
   "outputs": [],
   "source": [
    "plt.subplots(2,1)\n",
    "\n",
    "# p = 1\n",
    "plt.subplot(2,1,1)\n",
    "plt.title(rf\"$\\alpha'$={np.round(alpha_1_, decimals=4)} | $\\gamma'_{{CX}}$={np.round(gamma_cnot_1_, decimals=4)} | #CX={num_cnots_1} | $f_{{best}}$={int(best_val_1)}\")\n",
    "plt.vlines(opt_val, 0, 1, 'g')\n",
    "plt.vlines(noise_free_exp_vals[0], 0, 1, 'c', linestyles='-.')\n",
    "plt.vlines(cvar_gamma_1, 0, 1, 'c', linestyles=':')\n",
    "plt.plot(values_1, cum_probs_1, 'b', label=f'p={1}')\n",
    "plt.vlines(mean_1, 0, 1, 'b', linestyles='--')\n",
    "plt.xlim(0, 60)\n",
    "plt.legend(loc='upper left')\n",
    "plt.ylabel('probabilities')\n",
    "\n",
    "# p = 2\n",
    "plt.subplot(2,1,2)\n",
    "plt.title(rf\"$\\alpha'$={np.round(alpha_2_, decimals=4)} | $\\gamma'_{{CX}}$={np.round(gamma_cnot_2_, decimals=4)} | #CX={num_cnots_2} | $f_{{best}}$={int(best_val_2)}\")\n",
    "plt.vlines(opt_val, 0, 1, 'g')\n",
    "plt.vlines(noise_free_exp_vals[1], 0, 1, 'c', linestyles='-.')\n",
    "plt.vlines(cvar_gamma_2, 0, 1, 'c', linestyles=':')\n",
    "plt.plot(values_2, cum_probs_2, 'b', label=f'p={2}')\n",
    "plt.vlines(mean_2, 0, 1, 'b', linestyles='--')\n",
    "plt.xlim(0, 60)\n",
    "plt.legend(loc='upper left')\n",
    "plt.ylabel('probabilities')\n",
    "plt.xlabel('objective values')\n",
    "\n",
    "plt.tight_layout()\n",
    "plt.savefig(f'results/figure_4_{backend.name}.pdf')\n",
    "plt.show()"
   ]
  },
  {
   "cell_type": "markdown",
   "id": "235a5d7a",
   "metadata": {},
   "source": [
    "# Table 1"
   ]
  },
  {
   "cell_type": "code",
   "execution_count": null,
   "id": "529c9728",
   "metadata": {},
   "outputs": [],
   "source": [
    "def npr(x, d=3):\n",
    "    return np.round(x, decimals=d)\n",
    "\n",
    "print('==============================')\n",
    "print('global optimum:  ', opt_val)\n",
    "print('gamma_cnot:      ', npr(gamma_cnot, 4))\n",
    "print('==============================')\n",
    "print('p=1')\n",
    "print('==============================')\n",
    "print('noisy mean:      ', npr(mean_1))\n",
    "print('noise-free mean: ', npr(noise_free_exp_vals[0]))\n",
    "print('CVaR_alpha:      ', npr(cvar_gamma_1))\n",
    "print('best sample:     ', best_val_1)\n",
    "print('------------------------------')\n",
    "print('#CNOTs:          ', npr(num_cnots_1, 4))\n",
    "print('sqrt(gamma):     ', npr(sqrt_gamma_1))\n",
    "print('alpha:           ', npr(alpha_1, 8))\n",
    "print('alpha_prime:     ', npr(alpha_1_, 8))\n",
    "print('gamma_cnot_prime:', npr(gamma_cnot_1_, 4))\n",
    "print('==============================')\n",
    "print('p=2')\n",
    "print('==============================')\n",
    "print('noisy mean:     ', npr(mean_2))\n",
    "print('noise-free mean:', npr(noise_free_exp_vals[1]))\n",
    "print('CVaR_alpha:     ', npr(cvar_gamma_2))\n",
    "print('best sample:    ', best_val_2)\n",
    "print('------------------------------')\n",
    "print('#CNOTs:          ', npr(num_cnots_2, 4))\n",
    "print('sqrt(gamma):     ', npr(sqrt_gamma_2))\n",
    "print('alpha:           ', npr(alpha_2, 8))\n",
    "print('alpha_prime:     ', npr(alpha_2_, 8))\n",
    "print('gamma_cnot_prime:', npr(gamma_cnot_2_, 4))\n",
    "print('==============================')"
   ]
  },
  {
   "cell_type": "code",
   "execution_count": null,
   "id": "bf2396f0",
   "metadata": {},
   "outputs": [],
   "source": []
  }
 ],
 "metadata": {
  "kernelspec": {
   "display_name": "Python 3 (ipykernel)",
   "language": "python",
   "name": "python3"
  },
  "language_info": {
   "codemirror_mode": {
    "name": "ipython",
    "version": 3
   },
   "file_extension": ".py",
   "mimetype": "text/x-python",
   "name": "python",
   "nbconvert_exporter": "python",
   "pygments_lexer": "ipython3",
   "version": "3.10.14"
  }
 },
 "nbformat": 4,
 "nbformat_minor": 5
}
